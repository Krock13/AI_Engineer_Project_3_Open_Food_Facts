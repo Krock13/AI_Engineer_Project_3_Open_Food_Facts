{
 "cells": [
  {
   "cell_type": "code",
   "execution_count": 1,
   "metadata": {},
   "outputs": [],
   "source": [
    "# Importation des librairies\n",
    "import pandas as pd\n",
    "import numpy as np\n",
    "import matplotlib.pyplot as plt\n",
    "import seaborn as sns"
   ]
  },
  {
   "cell_type": "code",
   "execution_count": 2,
   "metadata": {},
   "outputs": [
    {
     "name": "stderr",
     "output_type": "stream",
     "text": [
      "C:\\Users\\black\\AppData\\Local\\Temp\\ipykernel_25300\\138257499.py:2: DtypeWarning: Columns (0,3,5,19,20,24,25,26,27,28,35,36,37,38,39,48) have mixed types. Specify dtype option on import or set low_memory=False.\n",
      "  data = pd.read_csv('dataframe.csv', sep='\\t', encoding='utf-8')\n"
     ]
    },
    {
     "name": "stdout",
     "output_type": "stream",
     "text": [
      "    code                                                url  \\\n",
      "0   3087  http://world-fr.openfoodfacts.org/produit/0000...   \n",
      "1   4530  http://world-fr.openfoodfacts.org/produit/0000...   \n",
      "2   4559  http://world-fr.openfoodfacts.org/produit/0000...   \n",
      "3  16087  http://world-fr.openfoodfacts.org/produit/0000...   \n",
      "4  16094  http://world-fr.openfoodfacts.org/produit/0000...   \n",
      "\n",
      "                      creator   created_t      created_datetime  \\\n",
      "0  openfoodfacts-contributors  1474103866  2016-09-17T09:17:46Z   \n",
      "1             usda-ndb-import  1489069957  2017-03-09T14:32:37Z   \n",
      "2             usda-ndb-import  1489069957  2017-03-09T14:32:37Z   \n",
      "3             usda-ndb-import  1489055731  2017-03-09T10:35:31Z   \n",
      "4             usda-ndb-import  1489055653  2017-03-09T10:34:13Z   \n",
      "\n",
      "  last_modified_t last_modified_datetime                    product_name  \\\n",
      "0      1474103893   2016-09-17T09:18:13Z              Farine de blé noir   \n",
      "1      1489069957   2017-03-09T14:32:37Z  Banana Chips Sweetened (Whole)   \n",
      "2      1489069957   2017-03-09T14:32:37Z                         Peanuts   \n",
      "3      1489055731   2017-03-09T10:35:31Z          Organic Salted Nut Mix   \n",
      "4      1489055653   2017-03-09T10:34:13Z                 Organic Polenta   \n",
      "\n",
      "  generic_name quantity  ... ph_100g fruits-vegetables-nuts_100g  \\\n",
      "0          NaN      1kg  ...     NaN                         NaN   \n",
      "1          NaN      NaN  ...     NaN                         NaN   \n",
      "2          NaN      NaN  ...     NaN                         NaN   \n",
      "3          NaN      NaN  ...     NaN                         NaN   \n",
      "4          NaN      NaN  ...     NaN                         NaN   \n",
      "\n",
      "  collagen-meat-protein-ratio_100g cocoa_100g chlorophyl_100g  \\\n",
      "0                              NaN        NaN             NaN   \n",
      "1                              NaN        NaN             NaN   \n",
      "2                              NaN        NaN             NaN   \n",
      "3                              NaN        NaN             NaN   \n",
      "4                              NaN        NaN             NaN   \n",
      "\n",
      "  carbon-footprint_100g nutrition-score-fr_100g nutrition-score-uk_100g  \\\n",
      "0                   NaN                     NaN                     NaN   \n",
      "1                   NaN                    14.0                    14.0   \n",
      "2                   NaN                     0.0                     0.0   \n",
      "3                   NaN                    12.0                    12.0   \n",
      "4                   NaN                     NaN                     NaN   \n",
      "\n",
      "  glycemic-index_100g water-hardness_100g  \n",
      "0                 NaN                 NaN  \n",
      "1                 NaN                 NaN  \n",
      "2                 NaN                 NaN  \n",
      "3                 NaN                 NaN  \n",
      "4                 NaN                 NaN  \n",
      "\n",
      "[5 rows x 162 columns]\n"
     ]
    }
   ],
   "source": [
    "# Chargement des données\n",
    "data = pd.read_csv('dataframe.csv', sep='\\t', encoding='utf-8')\n",
    "\n",
    "# Aperçu des données\n",
    "print(data.head())"
   ]
  },
  {
   "cell_type": "code",
   "execution_count": 3,
   "metadata": {},
   "outputs": [
    {
     "name": "stdout",
     "output_type": "stream",
     "text": [
      "Nombre de lignes dans le data frame : 320772\n",
      "Nombre de colonnes dans le data frame : 162\n"
     ]
    }
   ],
   "source": [
    "# Obtention des dimensions du data frame\n",
    "dim = data.shape\n",
    "print(\"Nombre de lignes dans le data frame :\", dim[0])\n",
    "print(\"Nombre de colonnes dans le data frame :\", dim[1])"
   ]
  },
  {
   "cell_type": "code",
   "execution_count": 4,
   "metadata": {},
   "outputs": [
    {
     "name": "stdout",
     "output_type": "stream",
     "text": [
      "Nombre de colonnes de chaque type :\n",
      "float64    106\n",
      "object      56\n",
      "Name: count, dtype: int64\n"
     ]
    }
   ],
   "source": [
    "# Compter le nombre de colonnes par type\n",
    "column_types = data.dtypes.value_counts()\n",
    "\n",
    "# Afficher le nombre de colonnes par type\n",
    "print(\"Nombre de colonnes de chaque type :\")\n",
    "print(column_types)"
   ]
  },
  {
   "cell_type": "code",
   "execution_count": 5,
   "metadata": {},
   "outputs": [
    {
     "data": {
      "text/html": [
       "<div>\n",
       "<style scoped>\n",
       "    .dataframe tbody tr th:only-of-type {\n",
       "        vertical-align: middle;\n",
       "    }\n",
       "\n",
       "    .dataframe tbody tr th {\n",
       "        vertical-align: top;\n",
       "    }\n",
       "\n",
       "    .dataframe thead th {\n",
       "        text-align: right;\n",
       "    }\n",
       "</style>\n",
       "<table border=\"1\" class=\"dataframe\">\n",
       "  <thead>\n",
       "    <tr style=\"text-align: right;\">\n",
       "      <th></th>\n",
       "      <th>no_nutriments</th>\n",
       "      <th>additives_n</th>\n",
       "      <th>ingredients_from_palm_oil_n</th>\n",
       "      <th>ingredients_from_palm_oil</th>\n",
       "      <th>ingredients_that_may_be_from_palm_oil_n</th>\n",
       "      <th>ingredients_that_may_be_from_palm_oil</th>\n",
       "      <th>nutrition_grade_uk</th>\n",
       "      <th>energy_100g</th>\n",
       "      <th>energy-from-fat_100g</th>\n",
       "      <th>fat_100g</th>\n",
       "      <th>...</th>\n",
       "      <th>ph_100g</th>\n",
       "      <th>fruits-vegetables-nuts_100g</th>\n",
       "      <th>collagen-meat-protein-ratio_100g</th>\n",
       "      <th>cocoa_100g</th>\n",
       "      <th>chlorophyl_100g</th>\n",
       "      <th>carbon-footprint_100g</th>\n",
       "      <th>nutrition-score-fr_100g</th>\n",
       "      <th>nutrition-score-uk_100g</th>\n",
       "      <th>glycemic-index_100g</th>\n",
       "      <th>water-hardness_100g</th>\n",
       "    </tr>\n",
       "  </thead>\n",
       "  <tbody>\n",
       "    <tr>\n",
       "      <th>count</th>\n",
       "      <td>0.0</td>\n",
       "      <td>248939.000000</td>\n",
       "      <td>248939.000000</td>\n",
       "      <td>0.0</td>\n",
       "      <td>248939.000000</td>\n",
       "      <td>0.0</td>\n",
       "      <td>0.0</td>\n",
       "      <td>2.611130e+05</td>\n",
       "      <td>857.000000</td>\n",
       "      <td>243891.000000</td>\n",
       "      <td>...</td>\n",
       "      <td>49.000000</td>\n",
       "      <td>3036.000000</td>\n",
       "      <td>165.000000</td>\n",
       "      <td>948.000000</td>\n",
       "      <td>0.0</td>\n",
       "      <td>268.000000</td>\n",
       "      <td>221210.000000</td>\n",
       "      <td>221210.000000</td>\n",
       "      <td>0.0</td>\n",
       "      <td>0.0</td>\n",
       "    </tr>\n",
       "    <tr>\n",
       "      <th>mean</th>\n",
       "      <td>NaN</td>\n",
       "      <td>1.936024</td>\n",
       "      <td>0.019659</td>\n",
       "      <td>NaN</td>\n",
       "      <td>0.055246</td>\n",
       "      <td>NaN</td>\n",
       "      <td>NaN</td>\n",
       "      <td>1.141915e+03</td>\n",
       "      <td>585.501214</td>\n",
       "      <td>12.730379</td>\n",
       "      <td>...</td>\n",
       "      <td>6.425698</td>\n",
       "      <td>31.458587</td>\n",
       "      <td>15.412121</td>\n",
       "      <td>49.547785</td>\n",
       "      <td>NaN</td>\n",
       "      <td>341.700764</td>\n",
       "      <td>9.165535</td>\n",
       "      <td>9.058049</td>\n",
       "      <td>NaN</td>\n",
       "      <td>NaN</td>\n",
       "    </tr>\n",
       "    <tr>\n",
       "      <th>std</th>\n",
       "      <td>NaN</td>\n",
       "      <td>2.502019</td>\n",
       "      <td>0.140524</td>\n",
       "      <td>NaN</td>\n",
       "      <td>0.269207</td>\n",
       "      <td>NaN</td>\n",
       "      <td>NaN</td>\n",
       "      <td>6.447154e+03</td>\n",
       "      <td>712.809943</td>\n",
       "      <td>17.578747</td>\n",
       "      <td>...</td>\n",
       "      <td>2.047841</td>\n",
       "      <td>31.967918</td>\n",
       "      <td>3.753028</td>\n",
       "      <td>18.757932</td>\n",
       "      <td>NaN</td>\n",
       "      <td>425.211439</td>\n",
       "      <td>9.055903</td>\n",
       "      <td>9.183589</td>\n",
       "      <td>NaN</td>\n",
       "      <td>NaN</td>\n",
       "    </tr>\n",
       "    <tr>\n",
       "      <th>min</th>\n",
       "      <td>NaN</td>\n",
       "      <td>0.000000</td>\n",
       "      <td>0.000000</td>\n",
       "      <td>NaN</td>\n",
       "      <td>0.000000</td>\n",
       "      <td>NaN</td>\n",
       "      <td>NaN</td>\n",
       "      <td>0.000000e+00</td>\n",
       "      <td>0.000000</td>\n",
       "      <td>0.000000</td>\n",
       "      <td>...</td>\n",
       "      <td>0.000000</td>\n",
       "      <td>0.000000</td>\n",
       "      <td>8.000000</td>\n",
       "      <td>6.000000</td>\n",
       "      <td>NaN</td>\n",
       "      <td>0.000000</td>\n",
       "      <td>-15.000000</td>\n",
       "      <td>-15.000000</td>\n",
       "      <td>NaN</td>\n",
       "      <td>NaN</td>\n",
       "    </tr>\n",
       "    <tr>\n",
       "      <th>25%</th>\n",
       "      <td>NaN</td>\n",
       "      <td>0.000000</td>\n",
       "      <td>0.000000</td>\n",
       "      <td>NaN</td>\n",
       "      <td>0.000000</td>\n",
       "      <td>NaN</td>\n",
       "      <td>NaN</td>\n",
       "      <td>3.770000e+02</td>\n",
       "      <td>49.400000</td>\n",
       "      <td>0.000000</td>\n",
       "      <td>...</td>\n",
       "      <td>6.300000</td>\n",
       "      <td>0.000000</td>\n",
       "      <td>12.000000</td>\n",
       "      <td>32.000000</td>\n",
       "      <td>NaN</td>\n",
       "      <td>98.750000</td>\n",
       "      <td>1.000000</td>\n",
       "      <td>1.000000</td>\n",
       "      <td>NaN</td>\n",
       "      <td>NaN</td>\n",
       "    </tr>\n",
       "    <tr>\n",
       "      <th>50%</th>\n",
       "      <td>NaN</td>\n",
       "      <td>1.000000</td>\n",
       "      <td>0.000000</td>\n",
       "      <td>NaN</td>\n",
       "      <td>0.000000</td>\n",
       "      <td>NaN</td>\n",
       "      <td>NaN</td>\n",
       "      <td>1.100000e+03</td>\n",
       "      <td>300.000000</td>\n",
       "      <td>5.000000</td>\n",
       "      <td>...</td>\n",
       "      <td>7.200000</td>\n",
       "      <td>23.000000</td>\n",
       "      <td>15.000000</td>\n",
       "      <td>50.000000</td>\n",
       "      <td>NaN</td>\n",
       "      <td>195.750000</td>\n",
       "      <td>10.000000</td>\n",
       "      <td>9.000000</td>\n",
       "      <td>NaN</td>\n",
       "      <td>NaN</td>\n",
       "    </tr>\n",
       "    <tr>\n",
       "      <th>75%</th>\n",
       "      <td>NaN</td>\n",
       "      <td>3.000000</td>\n",
       "      <td>0.000000</td>\n",
       "      <td>NaN</td>\n",
       "      <td>0.000000</td>\n",
       "      <td>NaN</td>\n",
       "      <td>NaN</td>\n",
       "      <td>1.674000e+03</td>\n",
       "      <td>898.000000</td>\n",
       "      <td>20.000000</td>\n",
       "      <td>...</td>\n",
       "      <td>7.400000</td>\n",
       "      <td>51.000000</td>\n",
       "      <td>15.000000</td>\n",
       "      <td>64.250000</td>\n",
       "      <td>NaN</td>\n",
       "      <td>383.200000</td>\n",
       "      <td>16.000000</td>\n",
       "      <td>16.000000</td>\n",
       "      <td>NaN</td>\n",
       "      <td>NaN</td>\n",
       "    </tr>\n",
       "    <tr>\n",
       "      <th>max</th>\n",
       "      <td>NaN</td>\n",
       "      <td>31.000000</td>\n",
       "      <td>2.000000</td>\n",
       "      <td>NaN</td>\n",
       "      <td>6.000000</td>\n",
       "      <td>NaN</td>\n",
       "      <td>NaN</td>\n",
       "      <td>3.251373e+06</td>\n",
       "      <td>3830.000000</td>\n",
       "      <td>714.290000</td>\n",
       "      <td>...</td>\n",
       "      <td>8.400000</td>\n",
       "      <td>100.000000</td>\n",
       "      <td>25.000000</td>\n",
       "      <td>100.000000</td>\n",
       "      <td>NaN</td>\n",
       "      <td>2842.000000</td>\n",
       "      <td>40.000000</td>\n",
       "      <td>40.000000</td>\n",
       "      <td>NaN</td>\n",
       "      <td>NaN</td>\n",
       "    </tr>\n",
       "  </tbody>\n",
       "</table>\n",
       "<p>8 rows × 106 columns</p>\n",
       "</div>"
      ],
      "text/plain": [
       "       no_nutriments    additives_n  ingredients_from_palm_oil_n  \\\n",
       "count            0.0  248939.000000                248939.000000   \n",
       "mean             NaN       1.936024                     0.019659   \n",
       "std              NaN       2.502019                     0.140524   \n",
       "min              NaN       0.000000                     0.000000   \n",
       "25%              NaN       0.000000                     0.000000   \n",
       "50%              NaN       1.000000                     0.000000   \n",
       "75%              NaN       3.000000                     0.000000   \n",
       "max              NaN      31.000000                     2.000000   \n",
       "\n",
       "       ingredients_from_palm_oil  ingredients_that_may_be_from_palm_oil_n  \\\n",
       "count                        0.0                            248939.000000   \n",
       "mean                         NaN                                 0.055246   \n",
       "std                          NaN                                 0.269207   \n",
       "min                          NaN                                 0.000000   \n",
       "25%                          NaN                                 0.000000   \n",
       "50%                          NaN                                 0.000000   \n",
       "75%                          NaN                                 0.000000   \n",
       "max                          NaN                                 6.000000   \n",
       "\n",
       "       ingredients_that_may_be_from_palm_oil  nutrition_grade_uk  \\\n",
       "count                                    0.0                 0.0   \n",
       "mean                                     NaN                 NaN   \n",
       "std                                      NaN                 NaN   \n",
       "min                                      NaN                 NaN   \n",
       "25%                                      NaN                 NaN   \n",
       "50%                                      NaN                 NaN   \n",
       "75%                                      NaN                 NaN   \n",
       "max                                      NaN                 NaN   \n",
       "\n",
       "        energy_100g  energy-from-fat_100g       fat_100g  ...    ph_100g  \\\n",
       "count  2.611130e+05            857.000000  243891.000000  ...  49.000000   \n",
       "mean   1.141915e+03            585.501214      12.730379  ...   6.425698   \n",
       "std    6.447154e+03            712.809943      17.578747  ...   2.047841   \n",
       "min    0.000000e+00              0.000000       0.000000  ...   0.000000   \n",
       "25%    3.770000e+02             49.400000       0.000000  ...   6.300000   \n",
       "50%    1.100000e+03            300.000000       5.000000  ...   7.200000   \n",
       "75%    1.674000e+03            898.000000      20.000000  ...   7.400000   \n",
       "max    3.251373e+06           3830.000000     714.290000  ...   8.400000   \n",
       "\n",
       "       fruits-vegetables-nuts_100g  collagen-meat-protein-ratio_100g  \\\n",
       "count                  3036.000000                        165.000000   \n",
       "mean                     31.458587                         15.412121   \n",
       "std                      31.967918                          3.753028   \n",
       "min                       0.000000                          8.000000   \n",
       "25%                       0.000000                         12.000000   \n",
       "50%                      23.000000                         15.000000   \n",
       "75%                      51.000000                         15.000000   \n",
       "max                     100.000000                         25.000000   \n",
       "\n",
       "       cocoa_100g  chlorophyl_100g  carbon-footprint_100g  \\\n",
       "count  948.000000              0.0             268.000000   \n",
       "mean    49.547785              NaN             341.700764   \n",
       "std     18.757932              NaN             425.211439   \n",
       "min      6.000000              NaN               0.000000   \n",
       "25%     32.000000              NaN              98.750000   \n",
       "50%     50.000000              NaN             195.750000   \n",
       "75%     64.250000              NaN             383.200000   \n",
       "max    100.000000              NaN            2842.000000   \n",
       "\n",
       "       nutrition-score-fr_100g  nutrition-score-uk_100g  glycemic-index_100g  \\\n",
       "count            221210.000000            221210.000000                  0.0   \n",
       "mean                  9.165535                 9.058049                  NaN   \n",
       "std                   9.055903                 9.183589                  NaN   \n",
       "min                 -15.000000               -15.000000                  NaN   \n",
       "25%                   1.000000                 1.000000                  NaN   \n",
       "50%                  10.000000                 9.000000                  NaN   \n",
       "75%                  16.000000                16.000000                  NaN   \n",
       "max                  40.000000                40.000000                  NaN   \n",
       "\n",
       "       water-hardness_100g  \n",
       "count                  0.0  \n",
       "mean                   NaN  \n",
       "std                    NaN  \n",
       "min                    NaN  \n",
       "25%                    NaN  \n",
       "50%                    NaN  \n",
       "75%                    NaN  \n",
       "max                    NaN  \n",
       "\n",
       "[8 rows x 106 columns]"
      ]
     },
     "execution_count": 5,
     "metadata": {},
     "output_type": "execute_result"
    }
   ],
   "source": [
    "data.describe()"
   ]
  },
  {
   "cell_type": "code",
   "execution_count": 6,
   "metadata": {},
   "outputs": [
    {
     "name": "stdout",
     "output_type": "stream",
     "text": [
      "['code', 'url', 'creator', 'created_t', 'created_datetime', 'last_modified_t', 'last_modified_datetime', 'product_name', 'generic_name', 'quantity', 'packaging', 'packaging_tags', 'brands', 'brands_tags', 'categories', 'categories_tags', 'categories_fr', 'origins', 'origins_tags', 'manufacturing_places', 'manufacturing_places_tags', 'labels', 'labels_tags', 'labels_fr', 'emb_codes', 'emb_codes_tags', 'first_packaging_code_geo', 'cities', 'cities_tags', 'purchase_places', 'stores', 'countries', 'countries_tags', 'countries_fr', 'ingredients_text', 'allergens', 'allergens_fr', 'traces', 'traces_tags', 'traces_fr', 'serving_size', 'no_nutriments', 'additives_n', 'additives', 'additives_tags', 'additives_fr', 'ingredients_from_palm_oil_n', 'ingredients_from_palm_oil', 'ingredients_from_palm_oil_tags', 'ingredients_that_may_be_from_palm_oil_n', 'ingredients_that_may_be_from_palm_oil', 'ingredients_that_may_be_from_palm_oil_tags', 'nutrition_grade_uk', 'nutrition_grade_fr', 'pnns_groups_1', 'pnns_groups_2', 'states', 'states_tags', 'states_fr', 'main_category', 'main_category_fr', 'image_url', 'image_small_url', 'energy_100g', 'energy-from-fat_100g', 'fat_100g', 'saturated-fat_100g', 'butyric-acid_100g', 'caproic-acid_100g', 'caprylic-acid_100g', 'capric-acid_100g', 'lauric-acid_100g', 'myristic-acid_100g', 'palmitic-acid_100g', 'stearic-acid_100g', 'arachidic-acid_100g', 'behenic-acid_100g', 'lignoceric-acid_100g', 'cerotic-acid_100g', 'montanic-acid_100g', 'melissic-acid_100g', 'monounsaturated-fat_100g', 'polyunsaturated-fat_100g', 'omega-3-fat_100g', 'alpha-linolenic-acid_100g', 'eicosapentaenoic-acid_100g', 'docosahexaenoic-acid_100g', 'omega-6-fat_100g', 'linoleic-acid_100g', 'arachidonic-acid_100g', 'gamma-linolenic-acid_100g', 'dihomo-gamma-linolenic-acid_100g', 'omega-9-fat_100g', 'oleic-acid_100g', 'elaidic-acid_100g', 'gondoic-acid_100g', 'mead-acid_100g', 'erucic-acid_100g', 'nervonic-acid_100g', 'trans-fat_100g', 'cholesterol_100g', 'carbohydrates_100g', 'sugars_100g', 'sucrose_100g', 'glucose_100g', 'fructose_100g', 'lactose_100g', 'maltose_100g', 'maltodextrins_100g', 'starch_100g', 'polyols_100g', 'fiber_100g', 'proteins_100g', 'casein_100g', 'serum-proteins_100g', 'nucleotides_100g', 'salt_100g', 'sodium_100g', 'alcohol_100g', 'vitamin-a_100g', 'beta-carotene_100g', 'vitamin-d_100g', 'vitamin-e_100g', 'vitamin-k_100g', 'vitamin-c_100g', 'vitamin-b1_100g', 'vitamin-b2_100g', 'vitamin-pp_100g', 'vitamin-b6_100g', 'vitamin-b9_100g', 'folates_100g', 'vitamin-b12_100g', 'biotin_100g', 'pantothenic-acid_100g', 'silica_100g', 'bicarbonate_100g', 'potassium_100g', 'chloride_100g', 'calcium_100g', 'phosphorus_100g', 'iron_100g', 'magnesium_100g', 'zinc_100g', 'copper_100g', 'manganese_100g', 'fluoride_100g', 'selenium_100g', 'chromium_100g', 'molybdenum_100g', 'iodine_100g', 'caffeine_100g', 'taurine_100g', 'ph_100g', 'fruits-vegetables-nuts_100g', 'collagen-meat-protein-ratio_100g', 'cocoa_100g', 'chlorophyl_100g', 'carbon-footprint_100g', 'nutrition-score-fr_100g', 'nutrition-score-uk_100g', 'glycemic-index_100g', 'water-hardness_100g']\n"
     ]
    }
   ],
   "source": [
    "# Identifier les colonnes pertinentes\n",
    "columns_list = data.columns.tolist()\n",
    "print(columns_list)"
   ]
  },
  {
   "cell_type": "markdown",
   "metadata": {},
   "source": [
    "Nous avons une colonne 'countries_fr' qui contient les informations sur les pays des produits. Nous l'utilisons pour filtrer les produits français."
   ]
  },
  {
   "cell_type": "code",
   "execution_count": 7,
   "metadata": {},
   "outputs": [
    {
     "name": "stdout",
     "output_type": "stream",
     "text": [
      "Dimensions du dataframe après filtrage : (98440, 162)\n"
     ]
    }
   ],
   "source": [
    "# Filtrer les produits français\n",
    "data = data[data['countries_fr'].str.contains('France', na=False)]\n",
    "\n",
    "# Vérifier les dimensions du dataframe après filtrage\n",
    "print(\"Dimensions du dataframe après filtrage :\", data.shape)"
   ]
  },
  {
   "cell_type": "code",
   "execution_count": 8,
   "metadata": {},
   "outputs": [
    {
     "name": "stdout",
     "output_type": "stream",
     "text": [
      "Colonnes numériques (quantitatives) :\n",
      "['no_nutriments', 'additives_n', 'ingredients_from_palm_oil_n', 'ingredients_from_palm_oil', 'ingredients_that_may_be_from_palm_oil_n', 'ingredients_that_may_be_from_palm_oil', 'nutrition_grade_uk', 'energy_100g', 'energy-from-fat_100g', 'fat_100g', 'saturated-fat_100g', 'butyric-acid_100g', 'caproic-acid_100g', 'caprylic-acid_100g', 'capric-acid_100g', 'lauric-acid_100g', 'myristic-acid_100g', 'palmitic-acid_100g', 'stearic-acid_100g', 'arachidic-acid_100g', 'behenic-acid_100g', 'lignoceric-acid_100g', 'cerotic-acid_100g', 'montanic-acid_100g', 'melissic-acid_100g', 'monounsaturated-fat_100g', 'polyunsaturated-fat_100g', 'omega-3-fat_100g', 'alpha-linolenic-acid_100g', 'eicosapentaenoic-acid_100g', 'docosahexaenoic-acid_100g', 'omega-6-fat_100g', 'linoleic-acid_100g', 'arachidonic-acid_100g', 'gamma-linolenic-acid_100g', 'dihomo-gamma-linolenic-acid_100g', 'omega-9-fat_100g', 'oleic-acid_100g', 'elaidic-acid_100g', 'gondoic-acid_100g', 'mead-acid_100g', 'erucic-acid_100g', 'nervonic-acid_100g', 'trans-fat_100g', 'cholesterol_100g', 'carbohydrates_100g', 'sugars_100g', 'sucrose_100g', 'glucose_100g', 'fructose_100g', 'lactose_100g', 'maltose_100g', 'maltodextrins_100g', 'starch_100g', 'polyols_100g', 'fiber_100g', 'proteins_100g', 'casein_100g', 'serum-proteins_100g', 'nucleotides_100g', 'salt_100g', 'sodium_100g', 'alcohol_100g', 'vitamin-a_100g', 'beta-carotene_100g', 'vitamin-d_100g', 'vitamin-e_100g', 'vitamin-k_100g', 'vitamin-c_100g', 'vitamin-b1_100g', 'vitamin-b2_100g', 'vitamin-pp_100g', 'vitamin-b6_100g', 'vitamin-b9_100g', 'folates_100g', 'vitamin-b12_100g', 'biotin_100g', 'pantothenic-acid_100g', 'silica_100g', 'bicarbonate_100g', 'potassium_100g', 'chloride_100g', 'calcium_100g', 'phosphorus_100g', 'iron_100g', 'magnesium_100g', 'zinc_100g', 'copper_100g', 'manganese_100g', 'fluoride_100g', 'selenium_100g', 'chromium_100g', 'molybdenum_100g', 'iodine_100g', 'caffeine_100g', 'taurine_100g', 'ph_100g', 'fruits-vegetables-nuts_100g', 'collagen-meat-protein-ratio_100g', 'cocoa_100g', 'chlorophyl_100g', 'carbon-footprint_100g', 'nutrition-score-fr_100g', 'nutrition-score-uk_100g', 'glycemic-index_100g', 'water-hardness_100g']\n"
     ]
    }
   ],
   "source": [
    "# Identifier les colonnes numériques\n",
    "numeric_columns = data.select_dtypes(include=[np.number]).columns.tolist()\n",
    "\n",
    "print(\"Colonnes numériques (quantitatives) :\")\n",
    "print(numeric_columns)"
   ]
  },
  {
   "cell_type": "code",
   "execution_count": 9,
   "metadata": {},
   "outputs": [
    {
     "name": "stdout",
     "output_type": "stream",
     "text": [
      "Colonnes catégorielles (qualitatives) :\n",
      "['code', 'url', 'creator', 'created_t', 'created_datetime', 'last_modified_t', 'last_modified_datetime', 'product_name', 'generic_name', 'quantity', 'packaging', 'packaging_tags', 'brands', 'brands_tags', 'categories', 'categories_tags', 'categories_fr', 'origins', 'origins_tags', 'manufacturing_places', 'manufacturing_places_tags', 'labels', 'labels_tags', 'labels_fr', 'emb_codes', 'emb_codes_tags', 'first_packaging_code_geo', 'cities', 'cities_tags', 'purchase_places', 'stores', 'countries', 'countries_tags', 'countries_fr', 'ingredients_text', 'allergens', 'allergens_fr', 'traces', 'traces_tags', 'traces_fr', 'serving_size', 'additives', 'additives_tags', 'additives_fr', 'ingredients_from_palm_oil_tags', 'ingredients_that_may_be_from_palm_oil_tags', 'nutrition_grade_fr', 'pnns_groups_1', 'pnns_groups_2', 'states', 'states_tags', 'states_fr', 'main_category', 'main_category_fr', 'image_url', 'image_small_url']\n"
     ]
    }
   ],
   "source": [
    "# Identifier les colonnes catégorielles\n",
    "categorical_columns = data.select_dtypes(include=[object]).columns.tolist()\n",
    "\n",
    "print(\"Colonnes catégorielles (qualitatives) :\")\n",
    "print(categorical_columns)"
   ]
  },
  {
   "cell_type": "code",
   "execution_count": 10,
   "metadata": {},
   "outputs": [
    {
     "data": {
      "image/png": "[encoded data removed]",
      "text/plain": [
       "<Figure size 800x600 with 1 Axes>"
      ]
     },
     "metadata": {},
     "output_type": "display_data"
    }
   ],
   "source": [
    "# Compter le nombre de colonnes numériques et catégorielles\n",
    "num_numeric_cols = len(numeric_columns)\n",
    "num_categorical_cols = len(categorical_columns)\n",
    "\n",
    "# Préparer les données pour le graphique\n",
    "types = ['Quantitatives', 'Qualitatives']\n",
    "counts = [num_numeric_cols, num_categorical_cols]\n",
    "\n",
    "# Créer le graphique en barres\n",
    "plt.figure(figsize=(8, 6))\n",
    "plt.bar(types, counts, color=['blue', 'green'])\n",
    "plt.xlabel('Type de colonnes')\n",
    "plt.ylabel('Nombre de colonnes')\n",
    "plt.title('Nombre de colonnes quantitatives et qualitatives')\n",
    "plt.show()"
   ]
  },
  {
   "cell_type": "code",
   "execution_count": 11,
   "metadata": {},
   "outputs": [
    {
     "name": "stdout",
     "output_type": "stream",
     "text": [
      "Colonnes numériques (quantitatives) :\n",
      "['no_nutriments', 'additives_n', 'ingredients_from_palm_oil_n', 'ingredients_from_palm_oil', 'ingredients_that_may_be_from_palm_oil_n', 'ingredients_that_may_be_from_palm_oil', 'nutrition_grade_uk', 'energy_100g', 'energy-from-fat_100g', 'fat_100g', 'saturated-fat_100g', 'butyric-acid_100g', 'caproic-acid_100g', 'caprylic-acid_100g', 'capric-acid_100g', 'lauric-acid_100g', 'myristic-acid_100g', 'palmitic-acid_100g', 'stearic-acid_100g', 'arachidic-acid_100g']\n",
      "['saturated-fat_100g', 'butyric-acid_100g', 'caproic-acid_100g', 'caprylic-acid_100g', 'capric-acid_100g', 'lauric-acid_100g', 'myristic-acid_100g', 'palmitic-acid_100g', 'stearic-acid_100g', 'arachidic-acid_100g', 'behenic-acid_100g', 'lignoceric-acid_100g', 'cerotic-acid_100g', 'montanic-acid_100g', 'melissic-acid_100g', 'monounsaturated-fat_100g', 'polyunsaturated-fat_100g', 'omega-3-fat_100g', 'alpha-linolenic-acid_100g', 'eicosapentaenoic-acid_100g']\n",
      "['behenic-acid_100g', 'lignoceric-acid_100g', 'cerotic-acid_100g', 'montanic-acid_100g', 'melissic-acid_100g', 'monounsaturated-fat_100g', 'polyunsaturated-fat_100g', 'omega-3-fat_100g', 'alpha-linolenic-acid_100g', 'eicosapentaenoic-acid_100g', 'docosahexaenoic-acid_100g', 'omega-6-fat_100g', 'linoleic-acid_100g', 'arachidonic-acid_100g', 'gamma-linolenic-acid_100g', 'dihomo-gamma-linolenic-acid_100g', 'omega-9-fat_100g', 'oleic-acid_100g', 'elaidic-acid_100g', 'gondoic-acid_100g']\n",
      "['docosahexaenoic-acid_100g', 'omega-6-fat_100g', 'linoleic-acid_100g', 'arachidonic-acid_100g', 'gamma-linolenic-acid_100g', 'dihomo-gamma-linolenic-acid_100g', 'omega-9-fat_100g', 'oleic-acid_100g', 'elaidic-acid_100g', 'gondoic-acid_100g', 'mead-acid_100g', 'erucic-acid_100g', 'nervonic-acid_100g', 'trans-fat_100g', 'cholesterol_100g', 'carbohydrates_100g', 'sugars_100g', 'sucrose_100g', 'glucose_100g', 'fructose_100g']\n",
      "['mead-acid_100g', 'erucic-acid_100g', 'nervonic-acid_100g', 'trans-fat_100g', 'cholesterol_100g', 'carbohydrates_100g', 'sugars_100g', 'sucrose_100g', 'glucose_100g', 'fructose_100g', 'lactose_100g', 'maltose_100g', 'maltodextrins_100g', 'starch_100g', 'polyols_100g', 'fiber_100g', 'proteins_100g', 'casein_100g', 'serum-proteins_100g', 'nucleotides_100g']\n",
      "['lactose_100g', 'maltose_100g', 'maltodextrins_100g', 'starch_100g', 'polyols_100g', 'fiber_100g', 'proteins_100g', 'casein_100g', 'serum-proteins_100g', 'nucleotides_100g', 'salt_100g', 'sodium_100g', 'alcohol_100g', 'vitamin-a_100g', 'beta-carotene_100g', 'vitamin-d_100g', 'vitamin-e_100g', 'vitamin-k_100g', 'vitamin-c_100g', 'vitamin-b1_100g']\n",
      "['salt_100g', 'sodium_100g', 'alcohol_100g', 'vitamin-a_100g', 'beta-carotene_100g', 'vitamin-d_100g', 'vitamin-e_100g', 'vitamin-k_100g', 'vitamin-c_100g', 'vitamin-b1_100g', 'vitamin-b2_100g', 'vitamin-pp_100g', 'vitamin-b6_100g', 'vitamin-b9_100g', 'folates_100g', 'vitamin-b12_100g', 'biotin_100g', 'pantothenic-acid_100g', 'silica_100g', 'bicarbonate_100g']\n",
      "['vitamin-b2_100g', 'vitamin-pp_100g', 'vitamin-b6_100g', 'vitamin-b9_100g', 'folates_100g', 'vitamin-b12_100g', 'biotin_100g', 'pantothenic-acid_100g', 'silica_100g', 'bicarbonate_100g', 'potassium_100g', 'chloride_100g', 'calcium_100g', 'phosphorus_100g', 'iron_100g', 'magnesium_100g', 'zinc_100g', 'copper_100g', 'manganese_100g', 'fluoride_100g']\n",
      "['potassium_100g', 'chloride_100g', 'calcium_100g', 'phosphorus_100g', 'iron_100g', 'magnesium_100g', 'zinc_100g', 'copper_100g', 'manganese_100g', 'fluoride_100g', 'selenium_100g', 'chromium_100g', 'molybdenum_100g', 'iodine_100g', 'caffeine_100g', 'taurine_100g', 'ph_100g', 'fruits-vegetables-nuts_100g', 'collagen-meat-protein-ratio_100g', 'cocoa_100g']\n",
      "['selenium_100g', 'chromium_100g', 'molybdenum_100g', 'iodine_100g', 'caffeine_100g', 'taurine_100g', 'ph_100g', 'fruits-vegetables-nuts_100g', 'collagen-meat-protein-ratio_100g', 'cocoa_100g', 'chlorophyl_100g', 'carbon-footprint_100g', 'nutrition-score-fr_100g', 'nutrition-score-uk_100g', 'glycemic-index_100g', 'water-hardness_100g']\n",
      "['chlorophyl_100g', 'carbon-footprint_100g', 'nutrition-score-fr_100g', 'nutrition-score-uk_100g', 'glycemic-index_100g', 'water-hardness_100g']\n",
      "\n",
      "Colonnes catégorielles (qualitatives) :\n",
      "['code', 'url', 'creator', 'created_t', 'created_datetime', 'last_modified_t', 'last_modified_datetime', 'product_name', 'generic_name', 'quantity', 'packaging', 'packaging_tags', 'brands', 'brands_tags', 'categories', 'categories_tags', 'categories_fr', 'origins', 'origins_tags', 'manufacturing_places']\n",
      "['packaging', 'packaging_tags', 'brands', 'brands_tags', 'categories', 'categories_tags', 'categories_fr', 'origins', 'origins_tags', 'manufacturing_places', 'manufacturing_places_tags', 'labels', 'labels_tags', 'labels_fr', 'emb_codes', 'emb_codes_tags', 'first_packaging_code_geo', 'cities', 'cities_tags', 'purchase_places']\n",
      "['manufacturing_places_tags', 'labels', 'labels_tags', 'labels_fr', 'emb_codes', 'emb_codes_tags', 'first_packaging_code_geo', 'cities', 'cities_tags', 'purchase_places', 'stores', 'countries', 'countries_tags', 'countries_fr', 'ingredients_text', 'allergens', 'allergens_fr', 'traces', 'traces_tags', 'traces_fr']\n",
      "['stores', 'countries', 'countries_tags', 'countries_fr', 'ingredients_text', 'allergens', 'allergens_fr', 'traces', 'traces_tags', 'traces_fr', 'serving_size', 'additives', 'additives_tags', 'additives_fr', 'ingredients_from_palm_oil_tags', 'ingredients_that_may_be_from_palm_oil_tags', 'nutrition_grade_fr', 'pnns_groups_1', 'pnns_groups_2', 'states']\n",
      "['serving_size', 'additives', 'additives_tags', 'additives_fr', 'ingredients_from_palm_oil_tags', 'ingredients_that_may_be_from_palm_oil_tags', 'nutrition_grade_fr', 'pnns_groups_1', 'pnns_groups_2', 'states', 'states_tags', 'states_fr', 'main_category', 'main_category_fr', 'image_url', 'image_small_url']\n",
      "['states_tags', 'states_fr', 'main_category', 'main_category_fr', 'image_url', 'image_small_url']\n"
     ]
    }
   ],
   "source": [
    "# Afficher les colonnes numériques en groupes de 10\n",
    "print(\"Colonnes numériques (quantitatives) :\")\n",
    "for i in range(0, len(numeric_columns), 10):\n",
    "    print(numeric_columns[i:i+20])\n",
    "\n",
    "# Afficher les colonnes catégorielles en groupes de 10\n",
    "print(\"\\nColonnes catégorielles (qualitatives) :\")\n",
    "for i in range(0, len(categorical_columns), 10):\n",
    "    print(categorical_columns[i:i+20])"
   ]
  },
  {
   "cell_type": "code",
   "execution_count": 12,
   "metadata": {},
   "outputs": [
    {
     "name": "stdout",
     "output_type": "stream",
     "text": [
      "Colonnes catégorielles avec plus de 50% de valeurs manquantes :\n",
      "generic_name                                   61.102194\n",
      "origins                                        84.420967\n",
      "origins_tags                                   84.430110\n",
      "manufacturing_places                           73.497562\n",
      "manufacturing_places_tags                      73.501625\n",
      "labels                                         64.342747\n",
      "labels_tags                                    64.304145\n",
      "labels_fr                                      64.304145\n",
      "emb_codes                                      76.536977\n",
      "emb_codes_tags                                 76.536977\n",
      "first_packaging_code_geo                       81.181430\n",
      "cities                                        100.000000\n",
      "cities_tags                                    79.694230\n",
      "purchase_places                                55.960991\n",
      "stores                                         61.357172\n",
      "allergens                                      76.733035\n",
      "allergens_fr                                  100.000000\n",
      "traces                                         80.532304\n",
      "traces_tags                                    80.533320\n",
      "traces_fr                                      80.533320\n",
      "serving_size                                   73.229378\n",
      "additives_tags                                 69.061357\n",
      "additives_fr                                   69.061357\n",
      "ingredients_from_palm_oil_tags                 96.258635\n",
      "ingredients_that_may_be_from_palm_oil_tags     93.640796\n",
      "dtype: float64\n"
     ]
    }
   ],
   "source": [
    "# Calculer le pourcentage de valeurs manquantes pour chaque colonne\n",
    "missing_data = data.isnull().mean() * 100\n",
    "\n",
    "# Calculer le pourcentage de valeurs manquantes pour chaque colonne catégorielle\n",
    "missing_data_categorical = missing_data[categorical_columns]\n",
    "\n",
    "# Lister les colonnes catégorielles avec plus de 50% de valeurs manquantes\n",
    "categorical_above_50_missing = missing_data_categorical[missing_data_categorical > 50]\n",
    "print(\"Colonnes catégorielles avec plus de 50% de valeurs manquantes :\")\n",
    "print(categorical_above_50_missing)"
   ]
  },
  {
   "cell_type": "code",
   "execution_count": 19,
   "metadata": {},
   "outputs": [
    {
     "name": "stdout",
     "output_type": "stream",
     "text": [
      "pnns_groups_2\n",
      "unknown                             12498\n",
      "One-dish meals                       4946\n",
      "Biscuits and cakes                   3764\n",
      "Sweets                               3427\n",
      "Cereals                              3045\n",
      "Cheese                               3026\n",
      "Processed meat                       2905\n",
      "Non-sugared beverages                2885\n",
      "Dressings and sauces                 2610\n",
      "Chocolate products                   2216\n",
      "Fish and seafood                     2185\n",
      "Alcoholic beverages                  2092\n",
      "Milk and yogurt                      2058\n",
      "Vegetables                           1772\n",
      "Sweetened beverages                  1660\n",
      "Appetizers                           1627\n",
      "Fruit juices                         1531\n",
      "Fruits                               1501\n",
      "Meat                                 1357\n",
      "Bread                                1321\n",
      "Fats                                 1184\n",
      "Breakfast cereals                    1111\n",
      "Dairy desserts                        747\n",
      "Sandwich                              644\n",
      "Ice cream                             590\n",
      "Legumes                               547\n",
      "vegetables                            524\n",
      "Nuts                                  480\n",
      "pastries                              472\n",
      "Pizza pies and quiche                 456\n",
      "Soups                                 427\n",
      "Dried fruits                          377\n",
      "Eggs                                  321\n",
      "Fruit nectars                         310\n",
      "Artificially sweetened beverages      211\n",
      "Potatoes                              104\n",
      "Tripe dishes                           65\n",
      "fruits                                 25\n",
      "Salty and fatty products               15\n",
      "legumes                                 1\n",
      "cereals                                 1\n",
      "Name: count, dtype: int64\n",
      "Pourcentage de valeurs manquantes dans 'generic_name' : 61.10%\n"
     ]
    }
   ],
   "source": [
    "# Vérifier les valeurs uniques dans la colonne 'generic_name'\n",
    "unique_categories = data['generic_name'].value_counts()\n",
    "print(unique_categories)\n",
    "\n",
    "# Calculer le pourcentage de valeurs manquantes pour 'generic_name'\n",
    "missing_categories_fr = data['generic_name'].isnull().mean() * 100\n",
    "print(f\"Pourcentage de valeurs manquantes dans 'generic_name' : {missing_categories_fr:.2f}%\")"
   ]
  },
  {
   "cell_type": "code",
   "execution_count": 14,
   "metadata": {},
   "outputs": [
    {
     "name": "stdout",
     "output_type": "stream",
     "text": [
      "Dimensions du dataframe après suppression des lignes avec des valeurs manquantes dans 'generic_name' : (38291, 162)\n"
     ]
    }
   ],
   "source": [
    "# Supprimer les lignes avec des valeurs manquantes dans 'generic_name'\n",
    "data_cleaned = data.dropna(subset=['generic_name'])\n",
    "\n",
    "# Vérifier les dimensions du dataframe après suppression\n",
    "print(\"Dimensions du dataframe après suppression des lignes avec des valeurs manquantes dans 'generic_name' :\", data_cleaned.shape)"
   ]
  },
  {
   "cell_type": "code",
   "execution_count": 15,
   "metadata": {},
   "outputs": [
    {
     "name": "stdout",
     "output_type": "stream",
     "text": [
      "Dimensions de X (features) : (98440, 161)\n",
      "Dimensions de y (cible) : (98440,)\n"
     ]
    }
   ],
   "source": [
    "# Séparer la colonne cible 'generic_name' du reste du dataset\n",
    "X = data.drop(columns=['generic_name'])\n",
    "y = data['generic_name']\n",
    "\n",
    "# Vérifier les dimensions des nouveaux datasets\n",
    "print(\"Dimensions de X (features) :\", X.shape)\n",
    "print(\"Dimensions de y (cible) :\", y.shape)"
   ]
  },
  {
   "cell_type": "code",
   "execution_count": 16,
   "metadata": {},
   "outputs": [
    {
     "name": "stdout",
     "output_type": "stream",
     "text": [
      "Taux de remplissage des features :\n",
      "[('code', 100.0), ('url', 100.0), ('creator', 100.0), ('created_t', 100.0), ('created_datetime', 100.0), ('last_modified_t', 100.0), ('last_modified_datetime', 100.0), ('product_name', 92.69), ('quantity', 72.37), ('packaging', 59.91)]\n",
      "[('packaging_tags', 59.91), ('brands', 87.8), ('brands_tags', 87.79), ('categories', 62.94), ('categories_tags', 62.94), ('categories_fr', 62.94), ('origins', 15.58), ('origins_tags', 15.57), ('manufacturing_places', 26.5), ('manufacturing_places_tags', 26.5)]\n",
      "[('labels', 35.66), ('labels_tags', 35.7), ('labels_fr', 35.7), ('emb_codes', 23.46), ('emb_codes_tags', 23.46), ('first_packaging_code_geo', 18.82), ('cities', 0.0), ('cities_tags', 20.31), ('purchase_places', 44.04), ('stores', 38.64)]\n",
      "[('countries', 100.0), ('countries_tags', 100.0), ('countries_fr', 100.0), ('ingredients_text', 54.31), ('allergens', 23.27), ('allergens_fr', 0.0), ('traces', 19.47), ('traces_tags', 19.47), ('traces_fr', 19.47), ('serving_size', 26.77)]\n",
      "[('no_nutriments', 0.0), ('additives_n', 54.31), ('additives', 54.3), ('additives_tags', 30.94), ('additives_fr', 30.94), ('ingredients_from_palm_oil_n', 54.31), ('ingredients_from_palm_oil', 0.0), ('ingredients_from_palm_oil_tags', 3.74), ('ingredients_that_may_be_from_palm_oil_n', 54.31), ('ingredients_that_may_be_from_palm_oil', 0.0)]\n",
      "[('ingredients_that_may_be_from_palm_oil_tags', 6.36), ('nutrition_grade_uk', 0.0), ('nutrition_grade_fr', 62.39), ('pnns_groups_1', 65.91), ('pnns_groups_2', 68.1), ('states', 100.0), ('states_tags', 100.0), ('states_fr', 100.0), ('main_category', 62.94), ('main_category_fr', 62.94)]\n",
      "[('image_url', 53.37), ('image_small_url', 53.37), ('energy_100g', 65.62), ('energy-from-fat_100g', 0.03), ('fat_100g', 48.4), ('saturated-fat_100g', 63.36), ('butyric-acid_100g', 0.0), ('caproic-acid_100g', 0.0), ('caprylic-acid_100g', 0.0), ('capric-acid_100g', 0.0)]\n",
      "[('lauric-acid_100g', 0.0), ('myristic-acid_100g', 0.0), ('palmitic-acid_100g', 0.0), ('stearic-acid_100g', 0.0), ('arachidic-acid_100g', 0.0), ('behenic-acid_100g', 0.0), ('lignoceric-acid_100g', 0.0), ('cerotic-acid_100g', 0.0), ('montanic-acid_100g', 0.0), ('melissic-acid_100g', 0.0)]\n",
      "[('monounsaturated-fat_100g', 1.2), ('polyunsaturated-fat_100g', 1.22), ('omega-3-fat_100g', 0.66), ('alpha-linolenic-acid_100g', 0.18), ('eicosapentaenoic-acid_100g', 0.02), ('docosahexaenoic-acid_100g', 0.04), ('omega-6-fat_100g', 0.15), ('linoleic-acid_100g', 0.15), ('arachidonic-acid_100g', 0.01), ('gamma-linolenic-acid_100g', 0.0)]\n",
      "[('dihomo-gamma-linolenic-acid_100g', 0.0), ('omega-9-fat_100g', 0.02), ('oleic-acid_100g', 0.01), ('elaidic-acid_100g', 0.0), ('gondoic-acid_100g', 0.0), ('mead-acid_100g', 0.0), ('erucic-acid_100g', 0.0), ('nervonic-acid_100g', 0.0), ('trans-fat_100g', 0.39), ('cholesterol_100g', 0.42)]\n",
      "[('carbohydrates_100g', 47.96), ('sugars_100g', 63.51), ('sucrose_100g', 0.01), ('glucose_100g', 0.01), ('fructose_100g', 0.02), ('lactose_100g', 0.15), ('maltose_100g', 0.0), ('maltodextrins_100g', 0.01), ('starch_100g', 0.18), ('polyols_100g', 0.31)]\n",
      "[('fiber_100g', 46.45), ('proteins_100g', 65.34), ('casein_100g', 0.03), ('serum-proteins_100g', 0.02), ('nucleotides_100g', 0.01), ('salt_100g', 63.57), ('sodium_100g', 63.56), ('alcohol_100g', 2.46), ('vitamin-a_100g', 0.6), ('beta-carotene_100g', 0.01)]\n",
      "[('vitamin-d_100g', 0.6), ('vitamin-e_100g', 0.8), ('vitamin-k_100g', 0.07), ('vitamin-c_100g', 1.32), ('vitamin-b1_100g', 0.87), ('vitamin-b2_100g', 0.66), ('vitamin-pp_100g', 0.72), ('vitamin-b6_100g', 0.76), ('vitamin-b9_100g', 0.7), ('folates_100g', 0.0)]\n",
      "[('vitamin-b12_100g', 0.56), ('biotin_100g', 0.2), ('pantothenic-acid_100g', 0.43), ('silica_100g', 0.03), ('bicarbonate_100g', 0.05), ('potassium_100g', 0.34), ('chloride_100g', 0.12), ('calcium_100g', 2.29), ('phosphorus_100g', 0.57), ('iron_100g', 1.2)]\n",
      "[('magnesium_100g', 0.83), ('zinc_100g', 0.23), ('copper_100g', 0.12), ('manganese_100g', 0.11), ('fluoride_100g', 0.07), ('selenium_100g', 0.09), ('chromium_100g', 0.01), ('molybdenum_100g', 0.0), ('iodine_100g', 0.12), ('caffeine_100g', 0.03)]\n",
      "[('taurine_100g', 0.03), ('ph_100g', 0.04), ('fruits-vegetables-nuts_100g', 3.02), ('collagen-meat-protein-ratio_100g', 0.17), ('cocoa_100g', 0.69), ('chlorophyl_100g', 0.0), ('carbon-footprint_100g', 0.18), ('nutrition-score-fr_100g', 62.39), ('nutrition-score-uk_100g', 62.39), ('glycemic-index_100g', 0.0)]\n",
      "[('water-hardness_100g', 0.0)]\n"
     ]
    }
   ],
   "source": [
    "# Calculer les taux de remplissage pour chaque colonne dans X\n",
    "filling_rate = (X.notnull().mean() * 100).round(2)\n",
    "\n",
    "# Convertir les taux de remplissage en une liste de tuples pour une meilleure lisibilité\n",
    "filling_rate_list = list(filling_rate.items())\n",
    "\n",
    "# Afficher les taux de remplissage en groupes de 10\n",
    "print(\"Taux de remplissage des features :\")\n",
    "for i in range(0, len(filling_rate_list), 10):\n",
    "    print(filling_rate_list[i:i+10])"
   ]
  },
  {
   "cell_type": "code",
   "execution_count": 17,
   "metadata": {},
   "outputs": [
    {
     "name": "stdout",
     "output_type": "stream",
     "text": [
      "Dimensions du dataframe après sélection des features : (98440, 11)\n",
      "Taux de remplissage des features sélectionnées :\n",
      "energy_100g           65.62\n",
      "fat_100g              48.40\n",
      "saturated-fat_100g    63.36\n",
      "carbohydrates_100g    47.96\n",
      "sugars_100g           63.51\n",
      "proteins_100g         65.34\n",
      "salt_100g             63.57\n",
      "fiber_100g            46.45\n",
      "brands                87.80\n",
      "pnns_groups_1         65.91\n",
      "pnns_groups_2         68.10\n",
      "dtype: float64\n"
     ]
    }
   ],
   "source": [
    "# Features sélectionnées\n",
    "selected_features = [\n",
    "    'energy_100g', 'fat_100g', 'saturated-fat_100g',\n",
    "    'carbohydrates_100g', 'sugars_100g', 'proteins_100g',\n",
    "    'salt_100g', 'fiber_100g', 'brands', 'pnns_groups_1',\n",
    "    'pnns_groups_2'\n",
    "]\n",
    "\n",
    "# Filtrer le dataframe pour ne garder que les features sélectionnées\n",
    "X_selected = X[selected_features]\n",
    "\n",
    "# Vérifier les dimensions du dataframe après sélection\n",
    "print(\"Dimensions du dataframe après sélection des features :\", X_selected.shape)\n",
    "\n",
    "# Afficher les taux de remplissage des features sélectionnées\n",
    "filling_rate_selected_after = (X_selected.notnull().mean() * 100).round(2)\n",
    "print(\"Taux de remplissage des features sélectionnées :\")\n",
    "print(filling_rate_selected_after)"
   ]
  },
  {
   "cell_type": "code",
   "execution_count": 18,
   "metadata": {},
   "outputs": [
    {
     "name": "stdout",
     "output_type": "stream",
     "text": [
      "Dimensions du dataframe après suppression des doublons : (74749, 11)\n"
     ]
    }
   ],
   "source": [
    "# Supprimer les produits en double\n",
    "X_selected = X_selected.drop_duplicates()\n",
    "\n",
    "# Vérifier les dimensions du dataframe après suppression des doublons\n",
    "print(\"Dimensions du dataframe après suppression des doublons :\", X_selected.shape)"
   ]
  }
 ],
 "metadata": {
  "kernelspec": {
   "display_name": "env_projet_3",
   "language": "python",
   "name": "python3"
  },
  "language_info": {
   "codemirror_mode": {
    "name": "ipython",
    "version": 3
   },
   "file_extension": ".py",
   "mimetype": "text/x-python",
   "name": "python",
   "nbconvert_exporter": "python",
   "pygments_lexer": "ipython3",
   "version": "3.9.13"
  }
 },
 "nbformat": 4,
 "nbformat_minor": 2
}
